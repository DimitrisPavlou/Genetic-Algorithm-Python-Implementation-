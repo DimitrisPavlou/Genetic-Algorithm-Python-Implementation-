{
 "cells": [
  {
   "cell_type": "code",
   "execution_count": null,
   "metadata": {},
   "outputs": [],
   "source": [
    "import numpy as np\n",
    "from matplotlib import pyplot as plt\n",
    "from ClassicGA import classic_ga \n",
    "from ContinuousGA import continuous_ga\n",
    "from objectives import ones , banana , powel\n",
    "from gwo import GWO"
   ]
  },
  {
   "cell_type": "code",
   "execution_count": null,
   "metadata": {},
   "outputs": [],
   "source": [
    "#solving the ones problem with the classic genetic algorithm\n",
    "\n",
    "population_size = 150\n",
    "p_crossover = 0.8\n",
    "mutation_rate = 0.001\n",
    "bits = 100\n",
    "num_elites = 10"
   ]
  },
  {
   "cell_type": "code",
   "execution_count": null,
   "metadata": {},
   "outputs": [],
   "source": [
    "# test run with roulette wheel selection on the ones problem\n",
    "runs = 20\n",
    "generations = []\n",
    "for run in range(runs) : \n",
    "    best , best_fitness , gens_needed = classic_ga(ones , population_size ,n_bits=bits , max_generations=3000, p_crossover=p_crossover, \n",
    "                                                   mutation_rate=mutation_rate , selection_algorithm=\"roulette\", num_elites=num_elites)\n",
    "    print(f\"Run : {run + 1} , Best fitness : {best_fitness} , Generations needed : {gens_needed}\")\n",
    "    generations.append(gens_needed)\n",
    "\n",
    "print(f\"Average generations needed : {np.ceil(np.mean(generations))}\")"
   ]
  },
  {
   "cell_type": "code",
   "execution_count": null,
   "metadata": {},
   "outputs": [],
   "source": [
    "# test run with roulette wheel selection on the ones problem\n",
    "runs = 20\n",
    "generations = []\n",
    "for run in range(runs) : \n",
    "    best , best_fitness , gens_needed = classic_ga(ones , population_size ,n_bits=bits , max_generations=1000, p_crossover=p_crossover, \n",
    "                                                   mutation_rate=mutation_rate , selection_algorithm=\"tournament\", num_elites = num_elites)\n",
    "    print(f\"Run : {run + 1} , Best fitness : {best_fitness} , Generations needed : {gens_needed}\")\n",
    "    generations.append(gens_needed)\n",
    "\n",
    "print(f\"Average generations needed : {np.ceil(np.mean(generations))}\")"
   ]
  },
  {
   "cell_type": "code",
   "execution_count": null,
   "metadata": {},
   "outputs": [],
   "source": [
    "#continuous function optimization paremeters\n",
    "population_size = 350\n",
    "p_crossover = 0.95\n",
    "mutation_rate = 0.2"
   ]
  },
  {
   "cell_type": "code",
   "execution_count": null,
   "metadata": {},
   "outputs": [],
   "source": [
    "#banana function with classic genetic algorithm \n",
    "init_point = (-12 , 1)\n",
    "my_best , my_score , convergence_curve = continuous_ga(banana, init_point=init_point , population_size = population_size , max_generations = 1000 ,\\\n",
    "                         p_crossover=p_crossover, mutation_rate=mutation_rate,selection_algorithm=\"tournament\" , num_elites=15)\n",
    "\n",
    "print(f\"Generations needed = {len(convergence_curve)}\")\n",
    "print(f\"Best position = {my_best}\")\n",
    "print(f\"Best score = {my_score}\")\n",
    "plt.plot(range(len(convergence_curve)), convergence_curve) \n",
    "plt.yscale('log')\n",
    "plt.xscale('log')\n",
    "plt.show()"
   ]
  },
  {
   "cell_type": "code",
   "execution_count": null,
   "metadata": {},
   "outputs": [],
   "source": [
    "#bananα function with gwo optimizer \n",
    "\n",
    "lb = [-15 , -15]\n",
    "ub = [15 , 15] \n",
    "\n",
    "best_score , best_positions , convergence_curve_gwo = GWO(banana, lb=lb , ub = ub, dim = 2, SearchAgents_no=50, Max_iter=1000)\n",
    "print(f\"Generations needed = {len(convergence_curve_gwo)}\")\n",
    "print(f\"Best Score = {best_score}\")\n",
    "print(f\"Best positions = {best_positions}\")\n",
    "plt.plot(range(len(convergence_curve_gwo)), convergence_curve_gwo) \n",
    "plt.yscale('log')\n",
    "plt.xscale('log')\n",
    "plt.show()\n"
   ]
  },
  {
   "cell_type": "code",
   "execution_count": null,
   "metadata": {},
   "outputs": [],
   "source": [
    "#powel function with classic genetic algorithm \n",
    "init_point = (3 , -1 , 0 , 1)\n",
    "my_best , my_score , convergence_curve = continuous_ga(powel, init_point=init_point , population_size = population_size , max_generations = 1000 ,\\\n",
    "                         p_crossover = p_crossover, mutation_rate = mutation_rate, selection_algorithm=\"tournament\" , num_elites=10)\n",
    "\n",
    "print(f\"Generations needed = {len(convergence_curve)}\")\n",
    "print(f\"Best position = {my_best}\")\n",
    "print(f\"Best score = {my_score}\")\n",
    "plt.plot(range(len(convergence_curve)), convergence_curve) \n",
    "plt.yscale('log')\n",
    "plt.xscale('log')\n",
    "plt.show()"
   ]
  },
  {
   "cell_type": "code",
   "execution_count": null,
   "metadata": {},
   "outputs": [],
   "source": [
    "\n",
    "lb = [-20 , -20, -20, -20]\n",
    "ub = [20, 20, 20, 20] \n",
    "\n",
    "best_score , best_positions , convergence_curve_gwo = GWO(powel, lb=lb , ub = ub, dim = 4, SearchAgents_no=50, Max_iter=1000)\n",
    "print(f\"Generations needed = {len(convergence_curve_gwo)}\")\n",
    "print(f\"Best Score = {best_score}\")\n",
    "print(f\"Best positions = {best_positions}\")\n",
    "plt.plot(range(len(convergence_curve_gwo)), convergence_curve_gwo) \n",
    "plt.yscale('log')\n",
    "plt.xscale('log')\n",
    "plt.show()"
   ]
  }
 ],
 "metadata": {
  "kernelspec": {
   "display_name": "Python 3",
   "language": "python",
   "name": "python3"
  },
  "language_info": {
   "codemirror_mode": {
    "name": "ipython",
    "version": 3
   },
   "file_extension": ".py",
   "mimetype": "text/x-python",
   "name": "python",
   "nbconvert_exporter": "python",
   "pygments_lexer": "ipython3",
   "version": "3.9.2"
  }
 },
 "nbformat": 4,
 "nbformat_minor": 2
}
